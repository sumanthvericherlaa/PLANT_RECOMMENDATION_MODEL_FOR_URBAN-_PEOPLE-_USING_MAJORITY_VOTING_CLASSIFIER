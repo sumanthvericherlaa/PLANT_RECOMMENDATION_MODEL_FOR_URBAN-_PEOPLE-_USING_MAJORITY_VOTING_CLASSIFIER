{
 "cells": [
  {
   "cell_type": "markdown",
   "id": "40348f8b",
   "metadata": {},
   "source": [
    "\n",
    "\n",
    "\n",
    "\n",
    "\n",
    "# PLANT RECOMENDATION MODEL FOR URBAN PEOPLE\n",
    "Reading the data set and importing the following packages:\n",
    "label encoder is used for encoding the string values into integer\n",
    "tree has decisiontree() classifier\n",
    "ultimately the dataset is displayed which has the following parameters\n",
    "i)Name(category of plant i.e Fruit,Flower,Herb,Vegetable)\n",
    "ii)Season(most suitable season for that plant)\n",
    "iii)MinTemp(minimum temperature of the locality)\n",
    "iv)MaxTemp(maximum temperature of the locality)\n",
    "v)MinHumid(minimum humidity of the locality)\n",
    "vi)MaxHumid(maximum humidity of the locality)"
   ]
  },
  {
   "cell_type": "code",
   "execution_count": 3,
   "id": "b6c6f068",
   "metadata": {
    "scrolled": true
   },
   "outputs": [
    {
     "name": "stdout",
     "output_type": "stream",
     "text": [
      "           Name  Season  MinTemp  MaxTemp  Minhumid  Maxhumid         Soil\n",
      "0        Flower  spring       23       30        50        60        brown\n",
      "1        Flower  summer       15       23        50        70        black\n",
      "2        Flower  summer        7       10        40        60  light black\n",
      "3        Flower  winter        7       10        60        70        black\n",
      "4        Flower  winter       10       20        65        85        black\n",
      "...         ...     ...      ...      ...       ...       ...          ...\n",
      "1303  Vegetable   rainy       15       30        70        90        black\n",
      "1304  Vegetable   rainy       15       30        70        90        black\n",
      "1305  Vegetable   rainy       15       30        70        90        black\n",
      "1306  Vegetable  winter       10       13        60        70  light brown\n",
      "1307  Vegetable  winter       10       13        60        70  light brown\n",
      "\n",
      "[1308 rows x 7 columns]\n"
     ]
    }
   ],
   "source": [
    "#Decision Tree Model\n",
    "import pandas as pd\n",
    "from sklearn import tree\n",
    "model=tree.DecisionTreeClassifier()\n",
    "df=pd.read_csv(r\"projdataset\\MergedDataset.csv\")\n",
    "# df=pd.read_csv(r\"C:\\Users\\Imran\\OneDrive\\Desktop\\nxtwave\\mergeds.csv\")\n",
    "print(df)\n"
   ]
  },
  {
   "cell_type": "code",
   "execution_count": 4,
   "id": "b87785c3",
   "metadata": {},
   "outputs": [
    {
     "data": {
      "text/html": [
       "<div>\n",
       "<style scoped>\n",
       "    .dataframe tbody tr th:only-of-type {\n",
       "        vertical-align: middle;\n",
       "    }\n",
       "\n",
       "    .dataframe tbody tr th {\n",
       "        vertical-align: top;\n",
       "    }\n",
       "\n",
       "    .dataframe thead th {\n",
       "        text-align: right;\n",
       "    }\n",
       "</style>\n",
       "<table border=\"1\" class=\"dataframe\">\n",
       "  <thead>\n",
       "    <tr style=\"text-align: right;\">\n",
       "      <th></th>\n",
       "      <th>MinTemp</th>\n",
       "      <th>MaxTemp</th>\n",
       "      <th>Minhumid</th>\n",
       "      <th>Maxhumid</th>\n",
       "    </tr>\n",
       "  </thead>\n",
       "  <tbody>\n",
       "    <tr>\n",
       "      <th>count</th>\n",
       "      <td>1308.000000</td>\n",
       "      <td>1308.000000</td>\n",
       "      <td>1308.000000</td>\n",
       "      <td>1308.000000</td>\n",
       "    </tr>\n",
       "    <tr>\n",
       "      <th>mean</th>\n",
       "      <td>16.703364</td>\n",
       "      <td>29.325688</td>\n",
       "      <td>62.844037</td>\n",
       "      <td>76.237003</td>\n",
       "    </tr>\n",
       "    <tr>\n",
       "      <th>std</th>\n",
       "      <td>8.852826</td>\n",
       "      <td>10.080444</td>\n",
       "      <td>20.296430</td>\n",
       "      <td>16.730926</td>\n",
       "    </tr>\n",
       "    <tr>\n",
       "      <th>min</th>\n",
       "      <td>-34.000000</td>\n",
       "      <td>-20.000000</td>\n",
       "      <td>5.000000</td>\n",
       "      <td>8.000000</td>\n",
       "    </tr>\n",
       "    <tr>\n",
       "      <th>25%</th>\n",
       "      <td>12.000000</td>\n",
       "      <td>24.000000</td>\n",
       "      <td>50.000000</td>\n",
       "      <td>65.000000</td>\n",
       "    </tr>\n",
       "    <tr>\n",
       "      <th>50%</th>\n",
       "      <td>18.000000</td>\n",
       "      <td>30.000000</td>\n",
       "      <td>60.000000</td>\n",
       "      <td>77.000000</td>\n",
       "    </tr>\n",
       "    <tr>\n",
       "      <th>75%</th>\n",
       "      <td>21.000000</td>\n",
       "      <td>35.000000</td>\n",
       "      <td>80.000000</td>\n",
       "      <td>90.000000</td>\n",
       "    </tr>\n",
       "    <tr>\n",
       "      <th>max</th>\n",
       "      <td>54.000000</td>\n",
       "      <td>80.000000</td>\n",
       "      <td>98.000000</td>\n",
       "      <td>100.000000</td>\n",
       "    </tr>\n",
       "  </tbody>\n",
       "</table>\n",
       "</div>"
      ],
      "text/plain": [
       "           MinTemp      MaxTemp     Minhumid     Maxhumid\n",
       "count  1308.000000  1308.000000  1308.000000  1308.000000\n",
       "mean     16.703364    29.325688    62.844037    76.237003\n",
       "std       8.852826    10.080444    20.296430    16.730926\n",
       "min     -34.000000   -20.000000     5.000000     8.000000\n",
       "25%      12.000000    24.000000    50.000000    65.000000\n",
       "50%      18.000000    30.000000    60.000000    77.000000\n",
       "75%      21.000000    35.000000    80.000000    90.000000\n",
       "max      54.000000    80.000000    98.000000   100.000000"
      ]
     },
     "execution_count": 4,
     "metadata": {},
     "output_type": "execute_result"
    }
   ],
   "source": [
    "df.describe()"
   ]
  },
  {
   "cell_type": "code",
   "execution_count": 5,
   "id": "5ee1f131",
   "metadata": {},
   "outputs": [
    {
     "name": "stdout",
     "output_type": "stream",
     "text": [
      "      MinTemp  MaxTemp  Minhumid  Maxhumid  Season_n  Soil_n\n",
      "0          23       30        50        60         5       2\n",
      "1          15       23        50        70         6       0\n",
      "2           7       10        40        60         6       5\n",
      "3           7       10        60        70         7       0\n",
      "4          10       20        65        85         7       0\n",
      "...       ...      ...       ...       ...       ...     ...\n",
      "1303       15       30        70        90         4       0\n",
      "1304       15       30        70        90         4       0\n",
      "1305       15       30        70        90         4       0\n",
      "1306       10       13        60        70         7       6\n",
      "1307       10       13        60        70         7       6\n",
      "\n",
      "[1308 rows x 6 columns]\n"
     ]
    }
   ],
   "source": [
    "from sklearn.preprocessing import LabelEncoder\n",
    "le_Season=LabelEncoder()\n",
    "le_Soil=LabelEncoder()\n",
    "le_Name=LabelEncoder()\n",
    "df[\"Season_n\"]=le_Season.fit_transform(df[\"Season\"])\n",
    "df[\"Name_n\"]=le_Name.fit_transform(df[\"Name\"])\n",
    "df[\"Soil_n\"]=le_Soil.fit_transform(df[\"Soil\"])\n",
    "inputs=df.drop([\"Name_n\",\"Name\",\"Season\",\"Soil\"],axis=\"columns\")\n",
    "target=df[\"Name_n\"]\n",
    "print(inputs)"
   ]
  },
  {
   "cell_type": "code",
   "execution_count": 6,
   "id": "7655d434",
   "metadata": {},
   "outputs": [
    {
     "name": "stdout",
     "output_type": "stream",
     "text": [
      "0       0\n",
      "1       0\n",
      "2       0\n",
      "3       0\n",
      "4       0\n",
      "       ..\n",
      "1303    3\n",
      "1304    3\n",
      "1305    3\n",
      "1306    3\n",
      "1307    3\n",
      "Name: Name_n, Length: 1308, dtype: int32\n"
     ]
    }
   ],
   "source": [
    "print(target)"
   ]
  },
  {
   "cell_type": "code",
   "execution_count": 7,
   "id": "29ea4228",
   "metadata": {},
   "outputs": [
    {
     "data": {
      "text/plain": [
       "DecisionTreeClassifier(criterion='entropy', random_state=10)"
      ]
     },
     "execution_count": 7,
     "metadata": {},
     "output_type": "execute_result"
    }
   ],
   "source": [
    "from sklearn.tree import DecisionTreeClassifier\n",
    "model=DecisionTreeClassifier(criterion=\"entropy\",random_state=10)\n",
    "model"
   ]
  },
  {
   "cell_type": "code",
   "execution_count": 8,
   "id": "86489ca4",
   "metadata": {},
   "outputs": [
    {
     "data": {
      "text/html": [
       "<div>\n",
       "<style scoped>\n",
       "    .dataframe tbody tr th:only-of-type {\n",
       "        vertical-align: middle;\n",
       "    }\n",
       "\n",
       "    .dataframe tbody tr th {\n",
       "        vertical-align: top;\n",
       "    }\n",
       "\n",
       "    .dataframe thead th {\n",
       "        text-align: right;\n",
       "    }\n",
       "</style>\n",
       "<table border=\"1\" class=\"dataframe\">\n",
       "  <thead>\n",
       "    <tr style=\"text-align: right;\">\n",
       "      <th></th>\n",
       "      <th>MinTemp</th>\n",
       "      <th>MaxTemp</th>\n",
       "      <th>Minhumid</th>\n",
       "      <th>Maxhumid</th>\n",
       "      <th>Season_n</th>\n",
       "      <th>Soil_n</th>\n",
       "    </tr>\n",
       "  </thead>\n",
       "  <tbody>\n",
       "    <tr>\n",
       "      <th>1173</th>\n",
       "      <td>15</td>\n",
       "      <td>40</td>\n",
       "      <td>50</td>\n",
       "      <td>63</td>\n",
       "      <td>6</td>\n",
       "      <td>1</td>\n",
       "    </tr>\n",
       "    <tr>\n",
       "      <th>623</th>\n",
       "      <td>10</td>\n",
       "      <td>20</td>\n",
       "      <td>44</td>\n",
       "      <td>76</td>\n",
       "      <td>2</td>\n",
       "      <td>0</td>\n",
       "    </tr>\n",
       "    <tr>\n",
       "      <th>644</th>\n",
       "      <td>15</td>\n",
       "      <td>30</td>\n",
       "      <td>70</td>\n",
       "      <td>90</td>\n",
       "      <td>4</td>\n",
       "      <td>0</td>\n",
       "    </tr>\n",
       "    <tr>\n",
       "      <th>567</th>\n",
       "      <td>15</td>\n",
       "      <td>30</td>\n",
       "      <td>70</td>\n",
       "      <td>90</td>\n",
       "      <td>6</td>\n",
       "      <td>0</td>\n",
       "    </tr>\n",
       "    <tr>\n",
       "      <th>928</th>\n",
       "      <td>21</td>\n",
       "      <td>24</td>\n",
       "      <td>85</td>\n",
       "      <td>90</td>\n",
       "      <td>7</td>\n",
       "      <td>14</td>\n",
       "    </tr>\n",
       "    <tr>\n",
       "      <th>...</th>\n",
       "      <td>...</td>\n",
       "      <td>...</td>\n",
       "      <td>...</td>\n",
       "      <td>...</td>\n",
       "      <td>...</td>\n",
       "      <td>...</td>\n",
       "    </tr>\n",
       "    <tr>\n",
       "      <th>404</th>\n",
       "      <td>15</td>\n",
       "      <td>25</td>\n",
       "      <td>50</td>\n",
       "      <td>65</td>\n",
       "      <td>0</td>\n",
       "      <td>0</td>\n",
       "    </tr>\n",
       "    <tr>\n",
       "      <th>79</th>\n",
       "      <td>24</td>\n",
       "      <td>26</td>\n",
       "      <td>55</td>\n",
       "      <td>65</td>\n",
       "      <td>6</td>\n",
       "      <td>15</td>\n",
       "    </tr>\n",
       "    <tr>\n",
       "      <th>565</th>\n",
       "      <td>15</td>\n",
       "      <td>30</td>\n",
       "      <td>70</td>\n",
       "      <td>90</td>\n",
       "      <td>6</td>\n",
       "      <td>0</td>\n",
       "    </tr>\n",
       "    <tr>\n",
       "      <th>370</th>\n",
       "      <td>18</td>\n",
       "      <td>21</td>\n",
       "      <td>50</td>\n",
       "      <td>66</td>\n",
       "      <td>6</td>\n",
       "      <td>0</td>\n",
       "    </tr>\n",
       "    <tr>\n",
       "      <th>638</th>\n",
       "      <td>15</td>\n",
       "      <td>30</td>\n",
       "      <td>70</td>\n",
       "      <td>90</td>\n",
       "      <td>4</td>\n",
       "      <td>0</td>\n",
       "    </tr>\n",
       "  </tbody>\n",
       "</table>\n",
       "<p>262 rows × 6 columns</p>\n",
       "</div>"
      ],
      "text/plain": [
       "      MinTemp  MaxTemp  Minhumid  Maxhumid  Season_n  Soil_n\n",
       "1173       15       40        50        63         6       1\n",
       "623        10       20        44        76         2       0\n",
       "644        15       30        70        90         4       0\n",
       "567        15       30        70        90         6       0\n",
       "928        21       24        85        90         7      14\n",
       "...       ...      ...       ...       ...       ...     ...\n",
       "404        15       25        50        65         0       0\n",
       "79         24       26        55        65         6      15\n",
       "565        15       30        70        90         6       0\n",
       "370        18       21        50        66         6       0\n",
       "638        15       30        70        90         4       0\n",
       "\n",
       "[262 rows x 6 columns]"
      ]
     },
     "execution_count": 8,
     "metadata": {},
     "output_type": "execute_result"
    }
   ],
   "source": [
    "from sklearn.model_selection import train_test_split\n",
    "inputs_train,inputs_test,target_train,target_test=train_test_split(inputs,target,test_size=0.2)\n",
    "model.fit(inputs_train,target_train)\n",
    "#\n",
    "inputs_test"
   ]
  },
  {
   "cell_type": "code",
   "execution_count": 9,
   "id": "6f41d8eb",
   "metadata": {},
   "outputs": [
    {
     "name": "stdout",
     "output_type": "stream",
     "text": [
      "Enter minimum temperature :23\n",
      "Enter maximum temperature :25\n",
      "Enter minimum humidity :68\n",
      "Enter maximum humid-ity :70\n"
     ]
    }
   ],
   "source": [
    "MinTemp=int(input(\"Enter minimum temperature :\"))\n",
    "MaxTemp=int(input(\"Enter maximum temperature :\"))\n",
    "MinHumid=int(input(\"Enter minimum humidity :\"))\n",
    "MaxHumid=int(input(\"Enter maximum humid-ity :\"))\n"
   ]
  },
  {
   "cell_type": "code",
   "execution_count": 10,
   "id": "12f4f04e",
   "metadata": {},
   "outputs": [
    {
     "name": "stdout",
     "output_type": "stream",
     "text": [
      "Enter the season:summer\n"
     ]
    }
   ],
   "source": [
    "Season=input(\"Enter the season:\")\n",
    "Season=Season.lower()\n",
    "s=0\n",
    "\n",
    "\n",
    "s1=[0,1,2,3,4,5,6,7]\n",
    "s2=[\"autumn\",\"common\",\"fall\",\"monsoon\",\"rainy\",\"spring\",\"summer\",\"winter\"]\n",
    "dict_seas=dict(zip(s1,s2))\n",
    "\n",
    "for k,v in dict_seas.items():\n",
    "    if v==Season:\n",
    "        s=k\n",
    "    else:\n",
    "        s=8\n",
    "\n"
   ]
  },
  {
   "cell_type": "code",
   "execution_count": 11,
   "id": "9374663d",
   "metadata": {},
   "outputs": [
    {
     "name": "stdout",
     "output_type": "stream",
     "text": [
      "Enter the soil:black\n",
      "0\n"
     ]
    }
   ],
   "source": [
    "Soil=input(\"Enter the soil:\")\n",
    "Soil=Soil.lower()\n",
    "st=0\n",
    "l1=[0,1,2,3,4,5,6,7,8,9,10,11,12,13,14,15]\n",
    "l2=[\"black\",\"blue\",\"brown\",\"dark black\",\"dark brown\",\"light black\",\"light brown\",\"light grey\",\"light red\",\"light yellow\",\"loamy\"\n",
    "   ,\"red\",\"reddish\",\"reddish brown\",\"sandy\",\"yellow\"]\n",
    "if Soil in l2:\n",
    "    st=l1.index(l2.index(Soil))\n",
    "    print(st)\n",
    "else:\n",
    "    st=16\n"
   ]
  },
  {
   "cell_type": "code",
   "execution_count": 12,
   "id": "d90fe317",
   "metadata": {},
   "outputs": [
    {
     "name": "stdout",
     "output_type": "stream",
     "text": [
      "Herb\n"
     ]
    }
   ],
   "source": [
    "def pred():\n",
    "    k=model.predict([[MinTemp,MaxTemp,MinHumid,MaxHumid,s,st]])\n",
    "    k1=[0,1,2,3]\n",
    "    k2=[\"Flower\",\"Fruit\",\"Herb\",\"Vegetable\"]\n",
    "    if k in k1:\n",
    "        print(k2[k1.index(k)])\n",
    "    else:\n",
    "        print(\"Enter Valid Inputs\")\n",
    "if Season==\"summer\" and MinTemp<=15 and MaxTemp>=60:\n",
    "    print(\"enter valid inputs\")\n",
    "elif Season==\"winter\"and MinTemp<=-25 and MaxTemp>=30:\n",
    "    print(\"enter valid inputs\")\n",
    "else:\n",
    "    pred()"
   ]
  },
  {
   "cell_type": "code",
   "execution_count": 15,
   "id": "68b79039",
   "metadata": {},
   "outputs": [],
   "source": [
    "dt_train_ac=model.score(inputs_train,target_train)\n",
    "dt_test_ac=model.score(inputs_test,target_test)"
   ]
  },
  {
   "cell_type": "code",
   "execution_count": 19,
   "id": "fc3dd45e",
   "metadata": {},
   "outputs": [
    {
     "data": {
      "text/plain": [
       "0.9694656488549618"
      ]
     },
     "execution_count": 19,
     "metadata": {},
     "output_type": "execute_result"
    }
   ],
   "source": [
    "from sklearn import metrics\n",
    "preds=model.predict(inputs_test)\n",
    "accuracy = metrics.accuracy_score(target_test, preds)\n",
    "accuracy "
   ]
  },
  {
   "cell_type": "code",
   "execution_count": 20,
   "id": "3b3d4e41",
   "metadata": {},
   "outputs": [
    {
     "name": "stdout",
     "output_type": "stream",
     "text": [
      "Testing Accuracy is 0.9694656488549618\n",
      "Training Accuracy is 0.994263862332696\n"
     ]
    }
   ],
   "source": [
    "\n",
    "print(\"Testing Accuracy is {}\".format(dt_test_ac))\n",
    "print(\"Training Accuracy is {}\".format(dt_train_ac))"
   ]
  },
  {
   "cell_type": "code",
   "execution_count": 15,
   "id": "898f5c9d",
   "metadata": {},
   "outputs": [
    {
     "data": {
      "text/html": [
       "<div>\n",
       "<style scoped>\n",
       "    .dataframe tbody tr th:only-of-type {\n",
       "        vertical-align: middle;\n",
       "    }\n",
       "\n",
       "    .dataframe tbody tr th {\n",
       "        vertical-align: top;\n",
       "    }\n",
       "\n",
       "    .dataframe thead th {\n",
       "        text-align: right;\n",
       "    }\n",
       "</style>\n",
       "<table border=\"1\" class=\"dataframe\">\n",
       "  <thead>\n",
       "    <tr style=\"text-align: right;\">\n",
       "      <th>col_0</th>\n",
       "      <th>0</th>\n",
       "      <th>1</th>\n",
       "      <th>2</th>\n",
       "      <th>3</th>\n",
       "    </tr>\n",
       "    <tr>\n",
       "      <th>Name_n</th>\n",
       "      <th></th>\n",
       "      <th></th>\n",
       "      <th></th>\n",
       "      <th></th>\n",
       "    </tr>\n",
       "  </thead>\n",
       "  <tbody>\n",
       "    <tr>\n",
       "      <th>0</th>\n",
       "      <td>43</td>\n",
       "      <td>2</td>\n",
       "      <td>2</td>\n",
       "      <td>4</td>\n",
       "    </tr>\n",
       "    <tr>\n",
       "      <th>1</th>\n",
       "      <td>2</td>\n",
       "      <td>69</td>\n",
       "      <td>2</td>\n",
       "      <td>0</td>\n",
       "    </tr>\n",
       "    <tr>\n",
       "      <th>2</th>\n",
       "      <td>0</td>\n",
       "      <td>0</td>\n",
       "      <td>39</td>\n",
       "      <td>0</td>\n",
       "    </tr>\n",
       "    <tr>\n",
       "      <th>3</th>\n",
       "      <td>2</td>\n",
       "      <td>4</td>\n",
       "      <td>3</td>\n",
       "      <td>90</td>\n",
       "    </tr>\n",
       "  </tbody>\n",
       "</table>\n",
       "</div>"
      ],
      "text/plain": [
       "col_0    0   1   2   3\n",
       "Name_n                \n",
       "0       43   2   2   4\n",
       "1        2  69   2   0\n",
       "2        0   0  39   0\n",
       "3        2   4   3  90"
      ]
     },
     "execution_count": 15,
     "metadata": {},
     "output_type": "execute_result"
    }
   ],
   "source": [
    "# from sklearn.metrics import classification_report, confusion_matrix\n",
    "# print(confusion_matrix(target_train,target_test))\n",
    "# print(classification_report(target_train,target_test))\n",
    "import pandas as pd\n",
    "target_predict=model.predict(inputs_test)\n",
    "pd.crosstab(target_test,target_predict)"
   ]
  },
  {
   "cell_type": "code",
   "execution_count": 16,
   "id": "483c9f05",
   "metadata": {},
   "outputs": [
    {
     "name": "stdout",
     "output_type": "stream",
     "text": [
      "0.9198473282442748\n"
     ]
    }
   ],
   "source": [
    "from sklearn.metrics import confusion_matrix,accuracy_score\n",
    "y_predict=model.predict(inputs_test)\n",
    "dt_accuracy=accuracy_score(target_test,y_predict)\n",
    "print(dt_accuracy)"
   ]
  },
  {
   "cell_type": "code",
   "execution_count": 17,
   "id": "15eeebc9",
   "metadata": {},
   "outputs": [
    {
     "name": "stdout",
     "output_type": "stream",
     "text": [
      "              precision    recall  f1-score   support\n",
      "\n",
      "           0       0.91      0.84      0.88        51\n",
      "           1       0.92      0.95      0.93        73\n",
      "           2       0.85      1.00      0.92        39\n",
      "           3       0.96      0.91      0.93        99\n",
      "\n",
      "    accuracy                           0.92       262\n",
      "   macro avg       0.91      0.92      0.92       262\n",
      "weighted avg       0.92      0.92      0.92       262\n",
      "\n"
     ]
    }
   ],
   "source": [
    "from sklearn.metrics import classification_report\n",
    "print(classification_report(target_test,y_predict))"
   ]
  },
  {
   "cell_type": "code",
   "execution_count": 1,
   "id": "2a570747",
   "metadata": {
    "scrolled": true
   },
   "outputs": [
    {
     "name": "stdout",
     "output_type": "stream",
     "text": [
      "Do you wish to continue: yes/no\n",
      "yes\n",
      "Type of plant:fruit\n",
      "1:Recomendation using name and output is required conditions for that plant\n",
      "2:Recomendation using season and output is ideal plants for that season\n",
      "3:classification using name,temperature,humidity,soil and output is either yes or no\n",
      "4:Recomendation using Temperature and Humidity,name and soil are outputs\n",
      "choose one of the options (1/2/3/4): 4\n",
      "Enter the temperature of your locality: 23\n",
      "Enter the humidity of your locality: 80\n",
      "plant : black  \t\t\t soil : black  \n",
      "plant : black  \t\t\t soil : black  \n",
      "plant : brown  \t\t\t soil : brown  \n",
      "plant :dark brown\t\t\t soil :dark brown\n",
      "plant : black  \t\t\t soil : black  \n",
      "plant : brown  \t\t\t soil : brown  \n",
      "plant : brown  \t\t\t soil : brown  \n",
      "plant : sandy  \t\t\t soil : sandy  \n",
      "plant :  red   \t\t\t soil :  red   \n",
      "plant :  red   \t\t\t soil :  red   \n",
      "plant : brown  \t\t\t soil : brown  \n",
      "plant : brown  \t\t\t soil : brown  \n",
      "plant : sandy  \t\t\t soil : sandy  \n",
      "plant : sandy  \t\t\t soil : sandy  \n",
      "plant : sandy  \t\t\t soil : sandy  \n",
      "plant : black  \t\t\t soil : black  \n",
      "plant : sandy  \t\t\t soil : sandy  \n",
      "plant :  red   \t\t\t soil :  red   \n",
      "plant :  red   \t\t\t soil :  red   \n",
      "plant : brown  \t\t\t soil : brown  \n",
      "plant : sandy  \t\t\t soil : sandy  \n",
      "plant : sandy  \t\t\t soil : sandy  \n",
      "plant : brown  \t\t\t soil : brown  \n",
      "plant : brown  \t\t\t soil : brown  \n",
      "plant : sandy  \t\t\t soil : sandy  \n",
      "plant : sandy  \t\t\t soil : sandy  \n",
      "plant : brown  \t\t\t soil : brown  \n",
      "plant : brown  \t\t\t soil : brown  \n",
      "plant :  red   \t\t\t soil :  red   \n",
      "plant : loamy  \t\t\t soil : loamy  \n",
      "Do you wish to continue: yes/no\n",
      "yes\n",
      "Type of plant:fruit\n",
      "1:Recomendation using name and output is required conditions for that plant\n",
      "2:Recomendation using season and output is ideal plants for that season\n",
      "3:classification using name,temperature,humidity,soil and output is either yes or no\n",
      "4:Recomendation using Temperature and Humidity,name and soil are outputs\n",
      "choose one of the options (1/2/3/4): 4\n",
      "Enter the temperature of your locality: 23\n",
      "Enter the humidity of your locality: 80\n",
      "plant : black  \t\t\t soil : black  \n",
      "plant : black  \t\t\t soil : black  \n",
      "plant : brown  \t\t\t soil : brown  \n",
      "plant :dark brown\t\t\t soil :dark brown\n",
      "plant : black  \t\t\t soil : black  \n",
      "plant : brown  \t\t\t soil : brown  \n",
      "plant : brown  \t\t\t soil : brown  \n",
      "plant : sandy  \t\t\t soil : sandy  \n",
      "plant :  red   \t\t\t soil :  red   \n",
      "plant :  red   \t\t\t soil :  red   \n",
      "plant : brown  \t\t\t soil : brown  \n",
      "plant : brown  \t\t\t soil : brown  \n",
      "plant : sandy  \t\t\t soil : sandy  \n",
      "plant : sandy  \t\t\t soil : sandy  \n",
      "plant : sandy  \t\t\t soil : sandy  \n",
      "plant : black  \t\t\t soil : black  \n",
      "plant : sandy  \t\t\t soil : sandy  \n",
      "plant :  red   \t\t\t soil :  red   \n",
      "plant :  red   \t\t\t soil :  red   \n",
      "plant : brown  \t\t\t soil : brown  \n",
      "plant : sandy  \t\t\t soil : sandy  \n",
      "plant : sandy  \t\t\t soil : sandy  \n",
      "plant : brown  \t\t\t soil : brown  \n",
      "plant : brown  \t\t\t soil : brown  \n",
      "plant : sandy  \t\t\t soil : sandy  \n",
      "plant : sandy  \t\t\t soil : sandy  \n",
      "plant : brown  \t\t\t soil : brown  \n",
      "plant : brown  \t\t\t soil : brown  \n",
      "plant :  red   \t\t\t soil :  red   \n",
      "plant : loamy  \t\t\t soil : loamy  \n",
      "Do you wish to continue: yes/no\n",
      "yes\n",
      "Type of plant:fruit\n",
      "1:Recomendation using name and output is required conditions for that plant\n",
      "2:Recomendation using season and output is ideal plants for that season\n",
      "3:classification using name,temperature,humidity,soil and output is either yes or no\n",
      "4:Recomendation using Temperature and Humidity,name and soil are outputs\n",
      "choose one of the options (1/2/3/4): 4\n",
      "Enter the temperature of your locality: 23\n",
      "Enter the humidity of your locality: 80\n",
      "plant : black  \t\t\t soil : black  \n",
      "plant : black  \t\t\t soil : black  \n",
      "plant : brown  \t\t\t soil : brown  \n",
      "plant :dark brown\t\t\t soil :dark brown\n",
      "plant : black  \t\t\t soil : black  \n",
      "plant : brown  \t\t\t soil : brown  \n",
      "plant : brown  \t\t\t soil : brown  \n",
      "plant : sandy  \t\t\t soil : sandy  \n",
      "plant :  red   \t\t\t soil :  red   \n",
      "plant :  red   \t\t\t soil :  red   \n",
      "plant : brown  \t\t\t soil : brown  \n",
      "plant : brown  \t\t\t soil : brown  \n",
      "plant : sandy  \t\t\t soil : sandy  \n",
      "plant : sandy  \t\t\t soil : sandy  \n",
      "plant : sandy  \t\t\t soil : sandy  \n",
      "plant : black  \t\t\t soil : black  \n",
      "plant : sandy  \t\t\t soil : sandy  \n",
      "plant :  red   \t\t\t soil :  red   \n",
      "plant :  red   \t\t\t soil :  red   \n",
      "plant : brown  \t\t\t soil : brown  \n",
      "plant : sandy  \t\t\t soil : sandy  \n",
      "plant : sandy  \t\t\t soil : sandy  \n",
      "plant : brown  \t\t\t soil : brown  \n",
      "plant : brown  \t\t\t soil : brown  \n",
      "plant : sandy  \t\t\t soil : sandy  \n",
      "plant : sandy  \t\t\t soil : sandy  \n",
      "plant : brown  \t\t\t soil : brown  \n",
      "plant : brown  \t\t\t soil : brown  \n",
      "plant :  red   \t\t\t soil :  red   \n",
      "plant : loamy  \t\t\t soil : loamy  \n",
      "Do you wish to continue: yes/no\n",
      "yes\n",
      "Type of plant:fruit\n",
      "1:Recomendation using name and output is required conditions for that plant\n",
      "2:Recomendation using season and output is ideal plants for that season\n",
      "3:classification using name,temperature,humidity,soil and output is either yes or no\n",
      "4:Recomendation using Temperature and Humidity,name and soil are outputs\n",
      "choose one of the options (1/2/3/4): 4\n",
      "Enter the temperature of your locality: 23\n",
      "Enter the humidity of your locality: 80\n",
      "plant : black  \t\t\t soil : black  \n",
      "plant : black  \t\t\t soil : black  \n",
      "plant : brown  \t\t\t soil : brown  \n",
      "plant :dark brown\t\t\t soil :dark brown\n",
      "plant : black  \t\t\t soil : black  \n",
      "plant : brown  \t\t\t soil : brown  \n",
      "plant : brown  \t\t\t soil : brown  \n",
      "plant : sandy  \t\t\t soil : sandy  \n",
      "plant :  red   \t\t\t soil :  red   \n",
      "plant :  red   \t\t\t soil :  red   \n",
      "plant : brown  \t\t\t soil : brown  \n",
      "plant : brown  \t\t\t soil : brown  \n",
      "plant : sandy  \t\t\t soil : sandy  \n",
      "plant : sandy  \t\t\t soil : sandy  \n",
      "plant : sandy  \t\t\t soil : sandy  \n",
      "plant : black  \t\t\t soil : black  \n",
      "plant : sandy  \t\t\t soil : sandy  \n",
      "plant :  red   \t\t\t soil :  red   \n",
      "plant :  red   \t\t\t soil :  red   \n",
      "plant : brown  \t\t\t soil : brown  \n",
      "plant : sandy  \t\t\t soil : sandy  \n",
      "plant : sandy  \t\t\t soil : sandy  \n",
      "plant : brown  \t\t\t soil : brown  \n",
      "plant : brown  \t\t\t soil : brown  \n",
      "plant : sandy  \t\t\t soil : sandy  \n",
      "plant : sandy  \t\t\t soil : sandy  \n",
      "plant : brown  \t\t\t soil : brown  \n",
      "plant : brown  \t\t\t soil : brown  \n",
      "plant :  red   \t\t\t soil :  red   \n",
      "plant : loamy  \t\t\t soil : loamy  \n",
      "Do you wish to continue: yes/no\n",
      "yes\n",
      "Type of plant:fruit\n",
      "1:Recomendation using name and output is required conditions for that plant\n",
      "2:Recomendation using season and output is ideal plants for that season\n",
      "3:classification using name,temperature,humidity,soil and output is either yes or no\n",
      "4:Recomendation using Temperature and Humidity,name and soil are outputs\n",
      "choose one of the options (1/2/3/4): 4\n",
      "Enter the temperature of your locality: 23\n",
      "Enter the humidity of your locality: 80\n",
      "plant : black  \t\t\t soil : black  \n",
      "plant : black  \t\t\t soil : black  \n",
      "plant : brown  \t\t\t soil : brown  \n",
      "plant :dark brown\t\t\t soil :dark brown\n",
      "plant : black  \t\t\t soil : black  \n",
      "plant : brown  \t\t\t soil : brown  \n",
      "plant : brown  \t\t\t soil : brown  \n",
      "plant : sandy  \t\t\t soil : sandy  \n",
      "plant :  red   \t\t\t soil :  red   \n",
      "plant :  red   \t\t\t soil :  red   \n",
      "plant : brown  \t\t\t soil : brown  \n",
      "plant : brown  \t\t\t soil : brown  \n",
      "plant : sandy  \t\t\t soil : sandy  \n",
      "plant : sandy  \t\t\t soil : sandy  \n",
      "plant : sandy  \t\t\t soil : sandy  \n",
      "plant : black  \t\t\t soil : black  \n",
      "plant : sandy  \t\t\t soil : sandy  \n",
      "plant :  red   \t\t\t soil :  red   \n",
      "plant :  red   \t\t\t soil :  red   \n",
      "plant : brown  \t\t\t soil : brown  \n",
      "plant : sandy  \t\t\t soil : sandy  \n",
      "plant : sandy  \t\t\t soil : sandy  \n",
      "plant : brown  \t\t\t soil : brown  \n",
      "plant : brown  \t\t\t soil : brown  \n",
      "plant : sandy  \t\t\t soil : sandy  \n",
      "plant : sandy  \t\t\t soil : sandy  \n",
      "plant : brown  \t\t\t soil : brown  \n",
      "plant : brown  \t\t\t soil : brown  \n",
      "plant :  red   \t\t\t soil :  red   \n",
      "plant : loamy  \t\t\t soil : loamy  \n",
      "Do you wish to continue: yes/no\n",
      "no\n",
      "Thank You for your time❤️\n"
     ]
    }
   ],
   "source": [
    "while(1):\n",
    "    print(\"Do you wish to continue: yes/no\")\n",
    "    y=input()\n",
    "    y=y.lower()\n",
    "    if y==\"yes\":\n",
    "        import pandas as pd\n",
    "        from IPython.display import display\n",
    "        #Recomendation using name of the plant and displaying required conditions to grow that plant.\n",
    "        def recomendation_using_name(name,dataset):\n",
    "            name=name[0].upper()+name[1:].lower()\n",
    "            for i in range(len(dataset)):\n",
    "                if name==dataset.Name[i]:\n",
    "                    dict = {'Name' : [name],\n",
    "                    'Minimum Temperature' : [dataset.MinTemp[i]],\n",
    "                    'Maximum Temperature' : [dataset.MaxTemp[i]],\n",
    "                    'Minimum Humidity'    : [dataset.Minhumid[i]],\n",
    "                    'Maximum Humidity'    : [dataset.Maxhumid[i]],\n",
    "                    'Season'              : [dataset.Season[i]],\n",
    "                    'Soil'                : [dataset.Soil[i]]\n",
    "                       }\n",
    "                    df = pd.DataFrame(dict)\n",
    "                    display(df)\n",
    "                    break\n",
    "            else:\n",
    "                print(\"Try another plant 😊👍\")\n",
    "\n",
    "        #Recomendation using season and displaying all the possible growing plants in that particular season. \n",
    "        def plant_recomendation_using_S(season,dataset):\n",
    "            lis=[]\n",
    "            print(\"Choose one of the following plants to opt in:\")\n",
    "            for i in range(len(dataset)):\n",
    "                if season==dataset.Season[i]:\n",
    "                    lis.append(dataset.Name[i])\n",
    "                    \n",
    "                    \n",
    "            \n",
    "            if len(lis)==0:\n",
    "                print(\"Invalid entry\")\n",
    "                    \n",
    "            else:\n",
    "                lis=list(set(lis))\n",
    "                for i in lis:\n",
    "                    dict = {'Season' : [[i]]}\n",
    "                    d=pd.DataFrame(dict)\n",
    "                \n",
    "                    display(i)\n",
    "\n",
    "        #Classification Function using label,temperature,humidity,soil parameters and concluding with yes or no.\n",
    "        def plant_classification_using_LTHS(name,Temperature,Humidity,soil,dataset):\n",
    "            Label=name\n",
    "            Res=[]\n",
    "            print(Label)\n",
    "            for i in range(len(dataset)):\n",
    "                if(Label in dataset.Name[i]):\n",
    "                    Res.append(\"Y\")\n",
    "                    if Temperature>=int(dataset.MinTemp[i]) and Temperature<=int(dataset.MaxTemp[i]):\n",
    "                        Res.append(\"Y\")\n",
    "                        if  Humidity>=int(dataset.Minhumid[i]) and Humidity<=int(dataset.Maxhumid[i]):\n",
    "                            Res.append(\"Y\")\n",
    "                            if(soil==dataset.Soil[i]):\n",
    "                                Res.append(\"Y\")\n",
    "            #if any of the above cases fail then it will append \"N\"                           \n",
    "            else:\n",
    "                Res.append(\"N\")\n",
    "            #conditional based classification\n",
    "            if(Res.count(\"Y\")>=4):\n",
    "                print(\"Yes you can this {}.The temperature {}^c and humidity {}% are in the range.\".format(Label,Temperature,Humidity))\n",
    "\n",
    "            else: \n",
    "                print(\"No choose some other plant,the conditions you inputs are not the best to opt this {} plant.\".format(Label))\n",
    "\n",
    "\n",
    "        #Recomendation using Temperature and Humidity which is area specific plant recomendation\n",
    "        def plant_recomendation_using_TH(Temperature,Humidity,dataset):\n",
    "            for i in range(len(dataset)):\n",
    "                if Temperature>=dataset.MinTemp[i] and Temperature<=dataset.MaxTemp[i]:\n",
    "                    if Humidity>=dataset.Minhumid[i] and Humidity<=dataset.Maxhumid[i]:\n",
    "                        print(\"plant :{}\\t\\t\\t soil :{}\".format(dataset.Name[i],dataset.Soil[i]))\n",
    "\n",
    "\n",
    "\n",
    "        #classifying inputs based on user choice to call the respective functions for classification\n",
    "        def option_fun(c):\n",
    "            if str(c)==\"1\":\n",
    "                name=input(\"Enter Name of the plant:\")\n",
    "                recomendation_using_name(name,dataset)\n",
    "            elif str(c)==\"2\":\n",
    "                season=input(\"Enter Name of the season: \")\n",
    "                season=season.lower()\n",
    "                plant_recomendation_using_S(season,dataset)\n",
    "            elif str(c)==\"3\":\n",
    "                name=input(\"Enter the Plant Name: \")\n",
    "                Temperature=int(input(\"Enter the Average Temperature of your locality: \"))\n",
    "                Humidity=int(input(\"Enter the Average Humidity of your locality: \"))\n",
    "                soil=input(\"Enter the soil type do you check in: \")\n",
    "                soil=soil.lower()#case conversion of the soil to ease of searching in dataset.\n",
    "                name=name[0].upper()+name[1::].lower()#string manipulation in accordance with name of dataset\n",
    "                #plant_classification function calling using following parameters\n",
    "                plant_classification_using_LTHS(name,Temperature,Humidity,soil,dataset)\n",
    "            elif str(c)==\"4\":\n",
    "                Temperature=int(input(\"Enter the temperature of your locality: \"))\n",
    "                Humidity=int(input(\"Enter the humidity of your locality: \"))\n",
    "                plant_recomendation_using_TH(Temperature,Humidity,dataset)\n",
    "\n",
    "            else:\n",
    "                print(\"Enter a valid entry\")\n",
    "\n",
    "                \n",
    "        #asking for plant category like fruit,vegetable,herb,flower      \n",
    "        n=input(\"Type of plant:\")\n",
    "        n=n.lower() \n",
    "        #explaining the user about which type of classification are behind the options 1,2,3,4.\n",
    "        print(\"1:Recomendation using name and output is required conditions for that plant\")\n",
    "        print(\"2:Recomendation using season and output is ideal plants for that season\")\n",
    "        print(\"3:classification using name,temperature,humidity,soil and output is either yes or no\")\n",
    "        print(\"4:Recomendation using Temperature and Humidity,name and soil are outputs\")\n",
    "        c=input(\"choose one of the options (1/2/3/4): \")\n",
    "        \n",
    "        \n",
    "        #conditonal based dataset training\n",
    "        if n==\"herb\":\n",
    "            dataset=pd.read_csv(r\"projdataset\\HerbsDataset.csv\")\n",
    "            option_fun(c)\n",
    "        elif n==\"vegetable\":\n",
    "            dataset=pd.read_csv(r\"projdataset\\VegetablesDataset.csv\")\n",
    "            option_fun(c)\n",
    "        elif n==\"fruit\":\n",
    "            dataset=pd.read_csv(r\"projdataset\\FruitsDataset.csv\")\n",
    "            option_fun(c)\n",
    "        elif n==\"flower\":\n",
    "            dataset=pd.read_csv(r\"projdataset\\Flowersdataset.csv\")\n",
    "            option_fun(c)\n",
    "        else:\n",
    "            print(\"valid type of plant\")\n",
    "    else:\n",
    "        print(\"Thank You for your time❤️\")\n",
    "        break\n",
    "\n"
   ]
  },
  {
   "cell_type": "code",
   "execution_count": 16,
   "id": "454ae091",
   "metadata": {},
   "outputs": [
    {
     "name": "stdout",
     "output_type": "stream",
     "text": [
      "(1308, 20) (1308,)\n"
     ]
    }
   ],
   "source": [
    "# test classification dataset\n",
    "from sklearn.datasets import make_classification\n",
    "# define dataset\n",
    "df=pd.read_csv(r\"projdataset\\MergedDataset.csv\")\n",
    "X, y = make_classification(n_samples=len(df), n_features=20, n_informative=15, n_redundant=5, random_state=5)\n",
    "# summarize the dataset\n",
    "print(X.shape, y.shape)"
   ]
  },
  {
   "cell_type": "code",
   "execution_count": 17,
   "id": "a633e4f3",
   "metadata": {},
   "outputs": [],
   "source": [
    "from sklearn.ensemble import AdaBoostClassifier\n",
    "Adaboost=AdaBoostClassifier(DecisionTreeClassifier(criterion=\"entropy\",random_state=0))\n",
    "boostmodel=Adaboost.fit(inputs_train,target_train)\n",
    "\n"
   ]
  },
  {
   "cell_type": "code",
   "execution_count": 18,
   "id": "460baa5b",
   "metadata": {},
   "outputs": [],
   "source": [
    "boostmodel_train_ac=boostmodel.score(inputs_train,target_train)\n",
    "y_pred=boostmodel.predict(inputs_test)\n",
    "boostmodel_test_ac=accuracy_score(target_test,y_pred)"
   ]
  },
  {
   "cell_type": "code",
   "execution_count": 19,
   "id": "35e82a4b",
   "metadata": {},
   "outputs": [
    {
     "name": "stdout",
     "output_type": "stream",
     "text": [
      "Boost MOdel training accuracy is 0.9933078393881453\n",
      "Boost Model testing accuracy is 0.9809160305343512\n"
     ]
    }
   ],
   "source": [
    "print(\"Boost MOdel training accuracy is {}\".format(boostmodel_train_ac))\n",
    "print(\"Boost Model testing accuracy is {}\".format(boostmodel_test_ac))"
   ]
  },
  {
   "cell_type": "code",
   "execution_count": 20,
   "id": "ce85585a",
   "metadata": {},
   "outputs": [
    {
     "name": "stdout",
     "output_type": "stream",
     "text": [
      "              precision    recall  f1-score   support\n",
      "\n",
      "           0       0.96      1.00      0.98        50\n",
      "           1       0.97      0.97      0.97        66\n",
      "           2       1.00      0.97      0.99        38\n",
      "           3       0.99      0.98      0.99       108\n",
      "\n",
      "    accuracy                           0.98       262\n",
      "   macro avg       0.98      0.98      0.98       262\n",
      "weighted avg       0.98      0.98      0.98       262\n",
      "\n"
     ]
    }
   ],
   "source": [
    "from sklearn.metrics import classification_report\n",
    "print(classification_report(target_test,y_pred))"
   ]
  },
  {
   "cell_type": "code",
   "execution_count": 21,
   "id": "6ff32357",
   "metadata": {},
   "outputs": [
    {
     "data": {
      "text/html": [
       "<div>\n",
       "<style scoped>\n",
       "    .dataframe tbody tr th:only-of-type {\n",
       "        vertical-align: middle;\n",
       "    }\n",
       "\n",
       "    .dataframe tbody tr th {\n",
       "        vertical-align: top;\n",
       "    }\n",
       "\n",
       "    .dataframe thead th {\n",
       "        text-align: right;\n",
       "    }\n",
       "</style>\n",
       "<table border=\"1\" class=\"dataframe\">\n",
       "  <thead>\n",
       "    <tr style=\"text-align: right;\">\n",
       "      <th>col_0</th>\n",
       "      <th>0</th>\n",
       "      <th>1</th>\n",
       "      <th>2</th>\n",
       "      <th>3</th>\n",
       "    </tr>\n",
       "    <tr>\n",
       "      <th>Name_n</th>\n",
       "      <th></th>\n",
       "      <th></th>\n",
       "      <th></th>\n",
       "      <th></th>\n",
       "    </tr>\n",
       "  </thead>\n",
       "  <tbody>\n",
       "    <tr>\n",
       "      <th>0</th>\n",
       "      <td>48</td>\n",
       "      <td>0</td>\n",
       "      <td>0</td>\n",
       "      <td>2</td>\n",
       "    </tr>\n",
       "    <tr>\n",
       "      <th>1</th>\n",
       "      <td>0</td>\n",
       "      <td>66</td>\n",
       "      <td>0</td>\n",
       "      <td>0</td>\n",
       "    </tr>\n",
       "    <tr>\n",
       "      <th>2</th>\n",
       "      <td>0</td>\n",
       "      <td>0</td>\n",
       "      <td>37</td>\n",
       "      <td>1</td>\n",
       "    </tr>\n",
       "    <tr>\n",
       "      <th>3</th>\n",
       "      <td>0</td>\n",
       "      <td>0</td>\n",
       "      <td>2</td>\n",
       "      <td>106</td>\n",
       "    </tr>\n",
       "  </tbody>\n",
       "</table>\n",
       "</div>"
      ],
      "text/plain": [
       "col_0    0   1   2    3\n",
       "Name_n                 \n",
       "0       48   0   0    2\n",
       "1        0  66   0    0\n",
       "2        0   0  37    1\n",
       "3        0   0   2  106"
      ]
     },
     "execution_count": 21,
     "metadata": {},
     "output_type": "execute_result"
    }
   ],
   "source": [
    "import pandas as pd\n",
    "target_predict=model.predict(inputs_test)\n",
    "pd.crosstab(target_test,target_predict)"
   ]
  },
  {
   "cell_type": "code",
   "execution_count": 22,
   "id": "b8765a5d",
   "metadata": {},
   "outputs": [],
   "source": [
    "# evaluate bagging algorithm for classification\n",
    "from numpy import mean\n",
    "from numpy import std\n",
    "from sklearn.datasets import make_classification\n",
    "# from sklearn.model_selection import cross_val_scorex\n",
    "from sklearn.model_selection import RepeatedStratifiedKFold\n",
    "from sklearn.ensemble import BaggingClassifier\n",
    "\n",
    "# define dataset\n",
    "df=pd.read_csv(r\"C:\\Users\\Imran\\OneDrive\\Desktop\\MAINPROJECT\\Project001\\projdataset\\MergedDataset.csv\")\n",
    "X, y = make_classification(n_samples=len(df), n_features=15,n_redundant=10, random_state=3)\n",
    "# define the model|\n",
    "bagmodel = BaggingClassifier(DecisionTreeClassifier(criterion=\"entropy\",random_state=3))\n",
    "bagmodel.fit(inputs_train,target_train)\n",
    "\n",
    "# evaluate the model\n",
    "cv = RepeatedStratifiedKFold(n_splits=10, n_repeats=5, random_state=3)\n",
    "# n_scores = cross_val_score(model, X, y, scoring='accuracy', cv=cv, n_jobs=-1, error_score='raise')\n",
    "# report performance\n",
    "# print('Accuracy: %.3f (%.3f)' % (mean(n_scores), std(n_scores)))\n",
    "\n"
   ]
  },
  {
   "cell_type": "code",
   "execution_count": 23,
   "id": "a0aa638d",
   "metadata": {},
   "outputs": [],
   "source": [
    "bagmodel_train_ac=bagmodel.score(inputs_train,target_train)\n",
    "y_pred=bagmodel.predict(inputs_test)\n",
    "bagmodel_test_ac=bagmodel.score(inputs_test,target_test)\n"
   ]
  },
  {
   "cell_type": "code",
   "execution_count": 24,
   "id": "c532cb7f",
   "metadata": {},
   "outputs": [
    {
     "name": "stdout",
     "output_type": "stream",
     "text": [
      "Bagging training accuracy is 0.9913957934990439\n",
      "Bagging testing accuracy is 0.9732824427480916\n"
     ]
    }
   ],
   "source": [
    "print(\"Bagging training accuracy is {}\".format(bagmodel_train_ac))\n",
    "print(\"Bagging testing accuracy is {}\".format(bagmodel_test_ac))"
   ]
  },
  {
   "cell_type": "code",
   "execution_count": 25,
   "id": "7d8cf684",
   "metadata": {},
   "outputs": [
    {
     "data": {
      "text/html": [
       "<div>\n",
       "<style scoped>\n",
       "    .dataframe tbody tr th:only-of-type {\n",
       "        vertical-align: middle;\n",
       "    }\n",
       "\n",
       "    .dataframe tbody tr th {\n",
       "        vertical-align: top;\n",
       "    }\n",
       "\n",
       "    .dataframe thead th {\n",
       "        text-align: right;\n",
       "    }\n",
       "</style>\n",
       "<table border=\"1\" class=\"dataframe\">\n",
       "  <thead>\n",
       "    <tr style=\"text-align: right;\">\n",
       "      <th>col_0</th>\n",
       "      <th>0</th>\n",
       "      <th>1</th>\n",
       "      <th>2</th>\n",
       "      <th>3</th>\n",
       "    </tr>\n",
       "    <tr>\n",
       "      <th>Name_n</th>\n",
       "      <th></th>\n",
       "      <th></th>\n",
       "      <th></th>\n",
       "      <th></th>\n",
       "    </tr>\n",
       "  </thead>\n",
       "  <tbody>\n",
       "    <tr>\n",
       "      <th>0</th>\n",
       "      <td>48</td>\n",
       "      <td>0</td>\n",
       "      <td>0</td>\n",
       "      <td>2</td>\n",
       "    </tr>\n",
       "    <tr>\n",
       "      <th>1</th>\n",
       "      <td>0</td>\n",
       "      <td>66</td>\n",
       "      <td>0</td>\n",
       "      <td>0</td>\n",
       "    </tr>\n",
       "    <tr>\n",
       "      <th>2</th>\n",
       "      <td>0</td>\n",
       "      <td>0</td>\n",
       "      <td>37</td>\n",
       "      <td>1</td>\n",
       "    </tr>\n",
       "    <tr>\n",
       "      <th>3</th>\n",
       "      <td>0</td>\n",
       "      <td>0</td>\n",
       "      <td>2</td>\n",
       "      <td>106</td>\n",
       "    </tr>\n",
       "  </tbody>\n",
       "</table>\n",
       "</div>"
      ],
      "text/plain": [
       "col_0    0   1   2    3\n",
       "Name_n                 \n",
       "0       48   0   0    2\n",
       "1        0  66   0    0\n",
       "2        0   0  37    1\n",
       "3        0   0   2  106"
      ]
     },
     "execution_count": 25,
     "metadata": {},
     "output_type": "execute_result"
    }
   ],
   "source": [
    "import pandas as pd\n",
    "target_predict=model.predict(inputs_test)\n",
    "pd.crosstab(target_test,target_predict)"
   ]
  },
  {
   "cell_type": "code",
   "execution_count": 26,
   "id": "9dc9724b",
   "metadata": {},
   "outputs": [
    {
     "name": "stdout",
     "output_type": "stream",
     "text": [
      "              precision    recall  f1-score   support\n",
      "\n",
      "           0       1.00      0.96      0.98        50\n",
      "           1       1.00      1.00      1.00        66\n",
      "           2       0.95      0.97      0.96        38\n",
      "           3       0.97      0.98      0.98       108\n",
      "\n",
      "    accuracy                           0.98       262\n",
      "   macro avg       0.98      0.98      0.98       262\n",
      "weighted avg       0.98      0.98      0.98       262\n",
      "\n"
     ]
    }
   ],
   "source": [
    "from sklearn.metrics import classification_report\n",
    "print(classification_report(target_test,target_predict))"
   ]
  },
  {
   "cell_type": "markdown",
   "id": "41270a15",
   "metadata": {},
   "source": [
    "# RANDOM FOREST"
   ]
  },
  {
   "cell_type": "code",
   "execution_count": 2,
   "id": "f2d46c3c",
   "metadata": {},
   "outputs": [
    {
     "ename": "NameError",
     "evalue": "name 'LabelEncoder' is not defined",
     "output_type": "error",
     "traceback": [
      "\u001b[1;31m---------------------------------------------------------------------------\u001b[0m",
      "\u001b[1;31mNameError\u001b[0m                                 Traceback (most recent call last)",
      "\u001b[1;32m<ipython-input-2-cd57917cc25a>\u001b[0m in \u001b[0;36m<module>\u001b[1;34m\u001b[0m\n\u001b[0;32m      1\u001b[0m \u001b[1;31m# Import train_test_split function\u001b[0m\u001b[1;33m\u001b[0m\u001b[1;33m\u001b[0m\u001b[1;33m\u001b[0m\u001b[0m\n\u001b[0;32m      2\u001b[0m \u001b[1;32mfrom\u001b[0m \u001b[0msklearn\u001b[0m\u001b[1;33m.\u001b[0m\u001b[0mmodel_selection\u001b[0m \u001b[1;32mimport\u001b[0m \u001b[0mtrain_test_split\u001b[0m\u001b[1;33m\u001b[0m\u001b[1;33m\u001b[0m\u001b[0m\n\u001b[1;32m----> 3\u001b[1;33m \u001b[0mle_Season\u001b[0m\u001b[1;33m=\u001b[0m\u001b[0mLabelEncoder\u001b[0m\u001b[1;33m(\u001b[0m\u001b[1;33m)\u001b[0m\u001b[1;33m\u001b[0m\u001b[1;33m\u001b[0m\u001b[0m\n\u001b[0m\u001b[0;32m      4\u001b[0m \u001b[0mle_Soil\u001b[0m\u001b[1;33m=\u001b[0m\u001b[0mLabelEncoder\u001b[0m\u001b[1;33m(\u001b[0m\u001b[1;33m)\u001b[0m\u001b[1;33m\u001b[0m\u001b[1;33m\u001b[0m\u001b[0m\n\u001b[0;32m      5\u001b[0m \u001b[0mle_Name\u001b[0m\u001b[1;33m=\u001b[0m\u001b[0mLabelEncoder\u001b[0m\u001b[1;33m(\u001b[0m\u001b[1;33m)\u001b[0m\u001b[1;33m\u001b[0m\u001b[1;33m\u001b[0m\u001b[0m\n",
      "\u001b[1;31mNameError\u001b[0m: name 'LabelEncoder' is not defined"
     ]
    }
   ],
   "source": [
    "# Import train_test_split function\n",
    "from sklearn.model_selection import train_test_split\n",
    "le_Season=LabelEncoder()\n",
    "le_Soil=LabelEncoder()\n",
    "le_Name=LabelEncoder()\n",
    "df[\"Season_n\"]=le_Season.fit_transform(df[\"Season\"])\n",
    "df[\"Name_n\"]=le_Name.fit_transform(df[\"Name\"])\n",
    "df[\"Soil_n\"]=le_Soil.fit_transform(df[\"Soil\"])\n",
    "X=df.drop([\"Name_n\",\"Name\",\"Season\",\"Soil\"],axis=\"columns\")\n",
    "y=df[\"Name_n\"]\n",
    "# Split dataset into training set and test set\n",
    "X_train, X_test, y_train, y_test = train_test_split(X, y, test_size=0.2) # 70% training and 30% test"
   ]
  },
  {
   "cell_type": "code",
   "execution_count": 33,
   "id": "c0f94f03",
   "metadata": {},
   "outputs": [],
   "source": [
    "from sklearn.ensemble import RandomForestClassifier\n",
    "\n",
    "#Create a Gaussian Classifier\n",
    "clf=RandomForestClassifier(n_estimators=100)\n",
    "\n",
    "#Train the model using the training sets y_pred=clf.predict(X_test)\n",
    "clf.fit(X_train,y_train)\n",
    "\n",
    "y_pred1=clf.predict(X_test)\n",
    "\n"
   ]
  },
  {
   "cell_type": "code",
   "execution_count": 34,
   "id": "5483f6e6",
   "metadata": {},
   "outputs": [],
   "source": [
    "randomforest_train_ac=clf.score(X_train,y_train)\n",
    "randomforest_test_ac=clf.score(X_test,y_test)"
   ]
  },
  {
   "cell_type": "code",
   "execution_count": 35,
   "id": "eaa7841d",
   "metadata": {},
   "outputs": [
    {
     "name": "stdout",
     "output_type": "stream",
     "text": [
      "Random Forest Training accuracy is 0.994263862332696\n",
      "Random Forest Testing accuracy is 0.9389312977099237\n"
     ]
    }
   ],
   "source": [
    "print(\"Random Forest Training accuracy is {}\".format(randomforest_train_ac))\n",
    "print(\"Random Forest Testing accuracy is {}\".format(randomforest_test_ac))"
   ]
  },
  {
   "cell_type": "code",
   "execution_count": 31,
   "id": "2fa1eec7",
   "metadata": {},
   "outputs": [
    {
     "name": "stdout",
     "output_type": "stream",
     "text": [
      "Accuracy: 0.9809160305343512\n"
     ]
    }
   ],
   "source": [
    "#Import scikit-learn metrics module for accuracy calculation\n",
    "from sklearn import metrics\n",
    "# Model Accuracy, how often is the classifier correct?\n",
    "print(\"Accuracy:\",metrics.accuracy_score(y_test, y_pred1))\n",
    "rf_ac=model.score(X_test,y_pred1)\n"
   ]
  },
  {
   "cell_type": "code",
   "execution_count": 32,
   "id": "103e4d05",
   "metadata": {},
   "outputs": [
    {
     "data": {
      "text/html": [
       "<div>\n",
       "<style scoped>\n",
       "    .dataframe tbody tr th:only-of-type {\n",
       "        vertical-align: middle;\n",
       "    }\n",
       "\n",
       "    .dataframe tbody tr th {\n",
       "        vertical-align: top;\n",
       "    }\n",
       "\n",
       "    .dataframe thead th {\n",
       "        text-align: right;\n",
       "    }\n",
       "</style>\n",
       "<table border=\"1\" class=\"dataframe\">\n",
       "  <thead>\n",
       "    <tr style=\"text-align: right;\">\n",
       "      <th>col_0</th>\n",
       "      <th>0</th>\n",
       "      <th>1</th>\n",
       "      <th>2</th>\n",
       "      <th>3</th>\n",
       "    </tr>\n",
       "    <tr>\n",
       "      <th>row_0</th>\n",
       "      <th></th>\n",
       "      <th></th>\n",
       "      <th></th>\n",
       "      <th></th>\n",
       "    </tr>\n",
       "  </thead>\n",
       "  <tbody>\n",
       "    <tr>\n",
       "      <th>0</th>\n",
       "      <td>45</td>\n",
       "      <td>0</td>\n",
       "      <td>0</td>\n",
       "      <td>0</td>\n",
       "    </tr>\n",
       "    <tr>\n",
       "      <th>1</th>\n",
       "      <td>2</td>\n",
       "      <td>63</td>\n",
       "      <td>0</td>\n",
       "      <td>0</td>\n",
       "    </tr>\n",
       "    <tr>\n",
       "      <th>2</th>\n",
       "      <td>0</td>\n",
       "      <td>0</td>\n",
       "      <td>42</td>\n",
       "      <td>0</td>\n",
       "    </tr>\n",
       "    <tr>\n",
       "      <th>3</th>\n",
       "      <td>0</td>\n",
       "      <td>0</td>\n",
       "      <td>3</td>\n",
       "      <td>107</td>\n",
       "    </tr>\n",
       "  </tbody>\n",
       "</table>\n",
       "</div>"
      ],
      "text/plain": [
       "col_0   0   1   2    3\n",
       "row_0                 \n",
       "0      45   0   0    0\n",
       "1       2  63   0    0\n",
       "2       0   0  42    0\n",
       "3       0   0   3  107"
      ]
     },
     "execution_count": 32,
     "metadata": {},
     "output_type": "execute_result"
    }
   ],
   "source": [
    "import pandas as pd\n",
    "target_predict=model.predict(X_test)\n",
    "pd.crosstab(y_pred1,target_predict)"
   ]
  },
  {
   "cell_type": "code",
   "execution_count": 33,
   "id": "f497038b",
   "metadata": {},
   "outputs": [
    {
     "name": "stdout",
     "output_type": "stream",
     "text": [
      "              precision    recall  f1-score   support\n",
      "\n",
      "           0       1.00      0.96      0.98        47\n",
      "           1       0.97      1.00      0.98        63\n",
      "           2       0.98      0.95      0.96        43\n",
      "           3       0.98      0.99      0.99       109\n",
      "\n",
      "    accuracy                           0.98       262\n",
      "   macro avg       0.98      0.98      0.98       262\n",
      "weighted avg       0.98      0.98      0.98       262\n",
      "\n"
     ]
    }
   ],
   "source": [
    "from sklearn.metrics import classification_report\n",
    "print(classification_report(y_test,y_pred1))"
   ]
  },
  {
   "cell_type": "markdown",
   "id": "53fe8c8d",
   "metadata": {},
   "source": [
    "# KNN "
   ]
  },
  {
   "cell_type": "code",
   "execution_count": 36,
   "id": "db739569",
   "metadata": {},
   "outputs": [],
   "source": [
    "from sklearn.neighbors import KNeighborsClassifier\n",
    "from sklearn.model_selection import train_test_split\n",
    "from sklearn.datasets import load_iris\n",
    "import numpy as np\n",
    "import matplotlib.pyplot as plt\n",
    " \n",
    "irisData = load_iris()\n",
    "df=pd.read_csv(r\"C:\\Users\\Imran\\OneDrive\\Desktop\\MAINPROJECT\\Project001\\projdataset\\MergedDataset.csv\")\n",
    "le_Season=LabelEncoder()\n",
    "le_Soil=LabelEncoder()\n",
    "le_Name=LabelEncoder()\n",
    "df[\"Season_n\"]=le_Season.fit_transform(df[\"Season\"])\n",
    "df[\"Name_n\"]=le_Name.fit_transform(df[\"Name\"])\n",
    "df[\"Soil_n\"]=le_Soil.fit_transform(df[\"Soil\"])\n",
    "\n",
    "X=df.drop([\"Name_n\",\"Name\",\"Season\",\"Soil\"],axis=\"columns\")\n",
    "target=df[\"Name_n\"]\n",
    "# Create feature and target arrays\n",
    "\n",
    "y=target\n",
    " \n",
    "# Split into training and test set\n",
    "X_train, X_test, y_train, y_test = train_test_split(\n",
    "             X, y, test_size = 0.2, random_state=42)\n",
    " \n",
    "neighbors = np.arange(1, 9)\n",
    "train_accuracy = np.empty(len(neighbors))\n",
    "test_accuracy = np.empty(len(neighbors))\n",
    " \n",
    "# Loop over K values\n",
    "for i, k in enumerate(neighbors):\n",
    "    knn = KNeighborsClassifier(n_neighbors=k)\n",
    "    knn.fit(X_train, y_train)\n",
    "     \n",
    "    # Compute training and test data accuracy\n",
    "    train_accuracy[i] = knn.score(X_train, y_train)\n",
    "    test_accuracy[i] = knn.score(X_test, y_test)\n",
    " \n",
    "# # # Generate plot\n",
    "# plt.plot(neighbors, test_accuracy, label = 'Testing dataset Accuracy')\n",
    "# plt.plot(neighbors, train_accuracy, label = 'Training dataset Accuracy')\n",
    " \n",
    "# plt.legend()\n",
    "# plt.xlabel('n_neighbors')\n",
    "# plt.ylabel('Accuracy')\n",
    "\n"
   ]
  },
  {
   "cell_type": "code",
   "execution_count": 37,
   "id": "3044dced",
   "metadata": {},
   "outputs": [],
   "source": [
    "y_pred2=knn.predict(X_test)\n",
    "\n",
    "knn_test_ac=knn.score(X_test,y_test)\n",
    "knn_train_ac=knn.score(X_train,y_train)"
   ]
  },
  {
   "cell_type": "code",
   "execution_count": 38,
   "id": "882c7a25",
   "metadata": {},
   "outputs": [
    {
     "name": "stdout",
     "output_type": "stream",
     "text": [
      "KNN training accuracy is 0.847036328871893\n",
      "KNN testing accuracy is 0.816793893129771\n"
     ]
    }
   ],
   "source": [
    "print(\"KNN training accuracy is {}\".format(knn_train_ac))\n",
    "print(\"KNN testing accuracy is {}\".format(knn_test_ac))"
   ]
  },
  {
   "cell_type": "code",
   "execution_count": 37,
   "id": "93acfe25",
   "metadata": {},
   "outputs": [
    {
     "data": {
      "text/html": [
       "<div>\n",
       "<style scoped>\n",
       "    .dataframe tbody tr th:only-of-type {\n",
       "        vertical-align: middle;\n",
       "    }\n",
       "\n",
       "    .dataframe tbody tr th {\n",
       "        vertical-align: top;\n",
       "    }\n",
       "\n",
       "    .dataframe thead th {\n",
       "        text-align: right;\n",
       "    }\n",
       "</style>\n",
       "<table border=\"1\" class=\"dataframe\">\n",
       "  <thead>\n",
       "    <tr style=\"text-align: right;\">\n",
       "      <th>col_0</th>\n",
       "      <th>0</th>\n",
       "      <th>1</th>\n",
       "      <th>2</th>\n",
       "      <th>3</th>\n",
       "    </tr>\n",
       "    <tr>\n",
       "      <th>Name_n</th>\n",
       "      <th></th>\n",
       "      <th></th>\n",
       "      <th></th>\n",
       "      <th></th>\n",
       "    </tr>\n",
       "  </thead>\n",
       "  <tbody>\n",
       "    <tr>\n",
       "      <th>0</th>\n",
       "      <td>35</td>\n",
       "      <td>1</td>\n",
       "      <td>7</td>\n",
       "      <td>2</td>\n",
       "    </tr>\n",
       "    <tr>\n",
       "      <th>1</th>\n",
       "      <td>6</td>\n",
       "      <td>62</td>\n",
       "      <td>2</td>\n",
       "      <td>8</td>\n",
       "    </tr>\n",
       "    <tr>\n",
       "      <th>2</th>\n",
       "      <td>1</td>\n",
       "      <td>0</td>\n",
       "      <td>40</td>\n",
       "      <td>0</td>\n",
       "    </tr>\n",
       "    <tr>\n",
       "      <th>3</th>\n",
       "      <td>2</td>\n",
       "      <td>7</td>\n",
       "      <td>12</td>\n",
       "      <td>77</td>\n",
       "    </tr>\n",
       "  </tbody>\n",
       "</table>\n",
       "</div>"
      ],
      "text/plain": [
       "col_0    0   1   2   3\n",
       "Name_n                \n",
       "0       35   1   7   2\n",
       "1        6  62   2   8\n",
       "2        1   0  40   0\n",
       "3        2   7  12  77"
      ]
     },
     "execution_count": 37,
     "metadata": {},
     "output_type": "execute_result"
    }
   ],
   "source": [
    "pd.crosstab(y_test,y_pred2)"
   ]
  },
  {
   "cell_type": "code",
   "execution_count": 38,
   "id": "d42aa777",
   "metadata": {},
   "outputs": [
    {
     "name": "stdout",
     "output_type": "stream",
     "text": [
      "              precision    recall  f1-score   support\n",
      "\n",
      "           0       0.80      0.78      0.79        45\n",
      "           1       0.89      0.79      0.84        78\n",
      "           2       0.66      0.98      0.78        41\n",
      "           3       0.89      0.79      0.83        98\n",
      "\n",
      "    accuracy                           0.82       262\n",
      "   macro avg       0.81      0.83      0.81       262\n",
      "weighted avg       0.83      0.82      0.82       262\n",
      "\n"
     ]
    }
   ],
   "source": [
    "from sklearn.metrics import classification_report\n",
    "print(classification_report(y_test,y_pred2))"
   ]
  },
  {
   "cell_type": "markdown",
   "id": "d84879bc",
   "metadata": {},
   "source": [
    "# SVM\n"
   ]
  },
  {
   "cell_type": "code",
   "execution_count": 39,
   "id": "e2dace97",
   "metadata": {},
   "outputs": [
    {
     "data": {
      "text/plain": [
       "SVC()"
      ]
     },
     "execution_count": 39,
     "metadata": {},
     "output_type": "execute_result"
    }
   ],
   "source": [
    "from sklearn import svm\n",
    "from sklearn.model_selection import train_test_split\n",
    "f=pd.read_csv(r\"C:\\Users\\Imran\\OneDrive\\Desktop\\MAINPROJECT\\Project001\\projdataset\\MergedDataset.csv\")\n",
    "le_Season=LabelEncoder()\n",
    "le_Soil=LabelEncoder()\n",
    "le_Name=LabelEncoder()\n",
    "f[\"Season_n\"]=le_Season.fit_transform(f[\"Season\"])\n",
    "f[\"Name_n\"]=le_Name.fit_transform(f[\"Name\"])\n",
    "f[\"Soil_n\"]=le_Soil.fit_transform(f[\"Soil\"])\n",
    "\n",
    "a=f.drop([\"Name_n\",\"Name\",\"Season\",\"Soil\"],axis=\"columns\")\n",
    "b=f[\"Name_n\"]\n",
    "# Split dataset into training set and test set\n",
    "a_train, a_test, b_train, b_test = train_test_split(a,b, test_size=0.2,random_state=10) # 70% training and 30% test\n",
    "#Create a svm Classifier\n",
    "clf1 = svm.SVC() # Linear Kernel\n",
    "\n",
    "#Train the model using the training sets\n",
    "clf1.fit(a_train, b_train)\n",
    "\n"
   ]
  },
  {
   "cell_type": "code",
   "execution_count": 40,
   "id": "d5b92164",
   "metadata": {},
   "outputs": [
    {
     "data": {
      "text/plain": [
       "0.4770992366412214"
      ]
     },
     "execution_count": 40,
     "metadata": {},
     "output_type": "execute_result"
    }
   ],
   "source": [
    "svm_test_ac=clf1.score(a_test,b_test)\n",
    "svm_train_ac=clf1.score(a_train,b_train)\n",
    "svm_test_ac"
   ]
  },
  {
   "cell_type": "code",
   "execution_count": 41,
   "id": "50ed688e",
   "metadata": {},
   "outputs": [],
   "source": [
    "y_pred3=clf1.predict(a_test)"
   ]
  },
  {
   "cell_type": "code",
   "execution_count": 42,
   "id": "f3b3c853",
   "metadata": {},
   "outputs": [
    {
     "name": "stdout",
     "output_type": "stream",
     "text": [
      "              precision    recall  f1-score   support\n",
      "\n",
      "           0       0.41      0.80      0.54        44\n",
      "           1       0.56      0.11      0.19        80\n",
      "           2       1.00      0.02      0.05        43\n",
      "           3       0.50      0.84      0.63        95\n",
      "\n",
      "    accuracy                           0.48       262\n",
      "   macro avg       0.62      0.44      0.35       262\n",
      "weighted avg       0.59      0.48      0.38       262\n",
      "\n"
     ]
    }
   ],
   "source": [
    "from sklearn.metrics import classification_report\n",
    "print(classification_report(b_test,y_pred3))"
   ]
  },
  {
   "cell_type": "code",
   "execution_count": 43,
   "id": "a91ab08f",
   "metadata": {},
   "outputs": [
    {
     "data": {
      "text/html": [
       "<div>\n",
       "<style scoped>\n",
       "    .dataframe tbody tr th:only-of-type {\n",
       "        vertical-align: middle;\n",
       "    }\n",
       "\n",
       "    .dataframe tbody tr th {\n",
       "        vertical-align: top;\n",
       "    }\n",
       "\n",
       "    .dataframe thead th {\n",
       "        text-align: right;\n",
       "    }\n",
       "</style>\n",
       "<table border=\"1\" class=\"dataframe\">\n",
       "  <thead>\n",
       "    <tr style=\"text-align: right;\">\n",
       "      <th>col_0</th>\n",
       "      <th>0</th>\n",
       "      <th>1</th>\n",
       "      <th>2</th>\n",
       "      <th>3</th>\n",
       "    </tr>\n",
       "    <tr>\n",
       "      <th>Name_n</th>\n",
       "      <th></th>\n",
       "      <th></th>\n",
       "      <th></th>\n",
       "      <th></th>\n",
       "    </tr>\n",
       "  </thead>\n",
       "  <tbody>\n",
       "    <tr>\n",
       "      <th>0</th>\n",
       "      <td>35</td>\n",
       "      <td>2</td>\n",
       "      <td>0</td>\n",
       "      <td>7</td>\n",
       "    </tr>\n",
       "    <tr>\n",
       "      <th>1</th>\n",
       "      <td>15</td>\n",
       "      <td>9</td>\n",
       "      <td>0</td>\n",
       "      <td>56</td>\n",
       "    </tr>\n",
       "    <tr>\n",
       "      <th>2</th>\n",
       "      <td>22</td>\n",
       "      <td>3</td>\n",
       "      <td>1</td>\n",
       "      <td>17</td>\n",
       "    </tr>\n",
       "    <tr>\n",
       "      <th>3</th>\n",
       "      <td>13</td>\n",
       "      <td>2</td>\n",
       "      <td>0</td>\n",
       "      <td>80</td>\n",
       "    </tr>\n",
       "  </tbody>\n",
       "</table>\n",
       "</div>"
      ],
      "text/plain": [
       "col_0    0  1  2   3\n",
       "Name_n              \n",
       "0       35  2  0   7\n",
       "1       15  9  0  56\n",
       "2       22  3  1  17\n",
       "3       13  2  0  80"
      ]
     },
     "execution_count": 43,
     "metadata": {},
     "output_type": "execute_result"
    }
   ],
   "source": [
    "pd.crosstab(b_test,y_pred3)"
   ]
  },
  {
   "cell_type": "code",
   "execution_count": 44,
   "id": "939e072e",
   "metadata": {},
   "outputs": [
    {
     "name": "stdout",
     "output_type": "stream",
     "text": [
      "The accuracy for DecisionTree and Random Forest is: 0.9694656488549618\n"
     ]
    }
   ],
   "source": [
    "from sklearn.ensemble import VotingClassifier\n",
    "ensemble=VotingClassifier(estimators=[('Decision Tree', model), ('Random Forest', clf)], \n",
    "                       voting='soft', weights=[2,1]).fit(X_train,y_train)\n",
    "print('The accuracy for DecisionTree and Random Forest is:',ensemble.score(X_test,y_test))\n",
    "ensemble_test_ac=ensemble.score(X_test,y_test)\n",
    "ensemble_train_ac=ensemble.score(X_train,y_train)"
   ]
  },
  {
   "cell_type": "code",
   "execution_count": 45,
   "id": "15151ce3",
   "metadata": {},
   "outputs": [
    {
     "data": {
      "image/png": "[encoded data removed]",
      "text/plain": [
       "<Figure size 720x360 with 1 Axes>"
      ]
     },
     "metadata": {
      "needs_background": "light"
     },
     "output_type": "display_data"
    }
   ],
   "source": [
    "import numpy as np\n",
    "import matplotlib.pyplot as plt\n",
    " \n",
    "  \n",
    "# creating the dataset\n",
    "data = {\"KNN model\":knn_test_ac,'Decision Tree':dt_test_ac,'Random Forest':randomforest_test_ac}#'SVM':svm_test_ac}\n",
    "courses = list(data.keys())\n",
    "values = list(data.values())\n",
    "  \n",
    "fig = plt.figure(figsize = (10, 5))\n",
    " \n",
    "# creating the bar plot\n",
    "# plt.bar(courses, values, color ='green',width = 0.4)\n",
    "plt.barh(courses,values,color = ['#ffa600','#ff6e54','#444e86']) \n",
    " \n",
    "plt.xlabel(\"MODELS\")\n",
    "plt.ylabel(\"TESTING ACCURACY\")\n",
    "plt.title(\"PLANT RECOMENDATION MODEL FOR URBAN PEOPLE\")\n",
    "plt.show()"
   ]
  },
  {
   "cell_type": "code",
   "execution_count": 79,
   "id": "0bd14c5d",
   "metadata": {},
   "outputs": [
    {
     "data": {
      "text/plain": [
       "Text(0, 0.5, 'Accuracy')"
      ]
     },
     "execution_count": 79,
     "metadata": {},
     "output_type": "execute_result"
    },
    {
     "data": {
      "image/png": "[encoded data removed]",
      "text/plain": [
       "<Figure size 720x576 with 1 Axes>"
      ]
     },
     "metadata": {
      "needs_background": "light"
     },
     "output_type": "display_data"
    }
   ],
   "source": [
    "data = {\"SVM\":svm_test_ac*100,\"KNN model\":knn_test_ac*100,'Random Forest':randomforest_test_ac*100,'Decision Tree':dt_test_ac*100}\n",
    "\n",
    "#data = {\"SVM\":svm_test_ac*100,\"KNN model\":knn_test_ac*100,'Random Forest':randomforest_test_ac*100,#'ensemble':ensemble_test_ac*100,'Decision Tree':dt_test_ac*100,'boostmodel':boostmodel_test_ac*100}\n",
    "courses = list(data.keys())\n",
    "values = list(data.values())\n",
    "\n",
    "fig = plt.figure(figsize = (10, 8))\n",
    "plt.bar(courses, values, color = ['#4f53ff','#50ff1e','#00d8f3','#0091ff','#00baff','#00f096'],width = 0.6,edgecolor='black')\n",
    "plt.title(\"PLANT RECOMENDATION MODEL FOR URBAN PEOPLE\")\n",
    "plt.xlabel('Algorithms')\n",
    "plt.ylabel('Accuracy')\n",
    "#plt.grid(color = 'black', alpha = 5, linestyle = '-', linewidth = 1)"
   ]
  },
  {
   "cell_type": "markdown",
   "id": "750621f9",
   "metadata": {},
   "source": [
    "Seasons represented in pie chart"
   ]
  },
  {
   "cell_type": "code",
   "execution_count": 47,
   "id": "95edd960",
   "metadata": {},
   "outputs": [
    {
     "data": {
      "image/png": "[encoded data removed]",
      "text/plain": [
       "<Figure size 432x288 with 1 Axes>"
      ]
     },
     "metadata": {},
     "output_type": "display_data"
    }
   ],
   "source": [
    "import matplotlib.pyplot as plt\n",
    "import numpy as np\n",
    "\n",
    "y = np.array([1,8,1.7,10,15,21,0.8,38])\n",
    "mylabels = [\"common\",\"monsoon\",\"fall\",\"rainy\",\"spring\",\"summer\",\"autumn\",\"winter\"]\n",
    "\n",
    "colors = ( \"orange\", \"#39AEA9\", \"black\",\"#F10086\", \"#EBE645\", \"red\",\"white\",\"#4fc359\")\n",
    "plt.pie(y, colors=colors,labels = mylabels)\n",
    "# plt.legend(title=\"Seasons:\")\n",
    "plt.show()"
   ]
  },
  {
   "cell_type": "code",
   "execution_count": 48,
   "id": "fa0ac2af",
   "metadata": {},
   "outputs": [
    {
     "data": {
      "image/png": "[encoded data removed]",
      "text/plain": [
       "<Figure size 432x288 with 1 Axes>"
      ]
     },
     "metadata": {},
     "output_type": "display_data"
    }
   ],
   "source": [
    "import matplotlib.pyplot as plt\n",
    "import numpy as np\n",
    "\n",
    "y = np.array([12.5,12.5,12.5,12.5,12.5,12.5,12.5,12.5])\n",
    "mylabels = [\"common\",\"monsoon\",\"fall\",\"rainy\",\"spring\",\"summer\",\"autumn\",\"winter\"]\n",
    "\n",
    "colors = ( \"orange\", \"#39AEA9\", \"black\",\"#F10086\", \"#EBE645\", \"red\",\"white\",\"#4fc359\")\n",
    "plt.pie(y, colors=colors,labels = mylabels)\n",
    "# plt.legend(title=\"Seasons:\")\n",
    "plt.show()"
   ]
  },
  {
   "cell_type": "markdown",
   "id": "44cb5e52",
   "metadata": {},
   "source": [
    "soils types represented in pie chart"
   ]
  },
  {
   "cell_type": "code",
   "execution_count": 49,
   "id": "f3a0eeb0",
   "metadata": {},
   "outputs": [
    {
     "data": {
      "image/png": "[encoded data removed]",
      "text/plain": [
       "<Figure size 432x288 with 1 Axes>"
      ]
     },
     "metadata": {},
     "output_type": "display_data"
    }
   ],
   "source": [
    "import matplotlib.pyplot as plt\n",
    "import numpy as np\n",
    "\n",
    "# y = np.array([39.6,0.001,21.8,0.3,0.3,4.4,10.3,0.1,0.4,0.12,0.16,0.88,0.06,0.06,0.53,0.04])\n",
    "y=np.array([6.5,6.5,6.5,6.5,6.5,6.5,6.5,6.5,6.5,6.5,6.5,6.5,6.5,6.5,6.5,6.5])\n",
    "mylabels = [\"black\",\"blue\",\"brown\",\"dark black\",\"dark brown\",\"light black\",\"light brown\",\"light grey\",\"light red\",\"light yellow\",\"red\"\n",
    "   ,\"loamy\",\"reddish\",\"reddish brown\",\"sandy\",\"yellow\"]\n",
    "colors = ( \"#000000\", \"#d0fefe\", \"brown\",\"#000\", \"#630606\",\"#231F20\",\"#AA4A30\",\"#D3D3D3\",\"#ff7f7f\",\"#FFDD67\",\"red\",\"#655f4f\",\"#FF0000\",\"#A52A2A\",\"#C2B280\",\"#FFC300\")\n",
    "plt.pie(y,colors=colors,labels = mylabels)\n",
    "# plt.legend(title=\"Seasons:\")\n",
    "plt.show()"
   ]
  },
  {
   "cell_type": "code",
   "execution_count": 50,
   "id": "5e7ce980",
   "metadata": {},
   "outputs": [
    {
     "data": {
      "image/png": "[encoded data removed]",
      "text/plain": [
       "<Figure size 432x288 with 1 Axes>"
      ]
     },
     "metadata": {},
     "output_type": "display_data"
    }
   ],
   "source": [
    "import matplotlib.pyplot as plt\n",
    "import numpy as np\n",
    "\n",
    "# y = np.array([39.6,0.001,21.8,0.3,0.3,4.4,10.3,0.1,0.4,0.12,0.16,0.88,0.06,0.06,0.53,0.04])\n",
    "y=np.array([44.49,28.6,9.9,5.41,11.6])\n",
    "mylabels = [\"black\",\"brown\",\"red\",\"light black\",\"light brown\"]\n",
    "colors = ( \"#000000\",\"#964b00\",\"#ff0000\",\"#231f20\",\"#ff5733\")\n",
    "plt.pie(y,colors=colors,labels = mylabels)\n",
    "# plt.legend(title=\"Seasons:\")\n",
    "plt.show()"
   ]
  },
  {
   "cell_type": "code",
   "execution_count": null,
   "id": "a741afdf",
   "metadata": {},
   "outputs": [],
   "source": []
  },
  {
   "cell_type": "code",
   "execution_count": null,
   "id": "4c7fa110",
   "metadata": {},
   "outputs": [],
   "source": []
  }
 ],
 "metadata": {
  "kernelspec": {
   "display_name": "Python 3",
   "language": "python",
   "name": "python3"
  },
  "language_info": {
   "codemirror_mode": {
    "name": "ipython",
    "version": 3
   },
   "file_extension": ".py",
   "mimetype": "text/x-python",
   "name": "python",
   "nbconvert_exporter": "python",
   "pygments_lexer": "ipython3",
   "version": "3.8.8"
  }
 },
 "nbformat": 4,
 "nbformat_minor": 5
}
